{
 "cells": [
  {
   "cell_type": "code",
   "execution_count": 1,
   "metadata": {
    "collapsed": true
   },
   "outputs": [],
   "source": [
    "import pandas as pd"
   ]
  },
  {
   "cell_type": "code",
   "execution_count": 2,
   "metadata": {
    "collapsed": true
   },
   "outputs": [],
   "source": [
    "df = pd.read_csv('finalresults.csv')"
   ]
  },
  {
   "cell_type": "code",
   "execution_count": 10,
   "metadata": {
    "collapsed": false
   },
   "outputs": [
    {
     "data": {
      "text/plain": [
       "(2752030, 9)"
      ]
     },
     "execution_count": 10,
     "metadata": {},
     "output_type": "execute_result"
    }
   ],
   "source": [
    "del df['Unnamed: 0']\n",
    "df.shape"
   ]
  },
  {
   "cell_type": "code",
   "execution_count": 9,
   "metadata": {
    "collapsed": false
   },
   "outputs": [
    {
     "data": {
      "text/html": [
       "<div>\n",
       "<table border=\"1\" class=\"dataframe\">\n",
       "  <thead>\n",
       "    <tr style=\"text-align: right;\">\n",
       "      <th></th>\n",
       "      <th>City_Count</th>\n",
       "      <th>Score</th>\n",
       "      <th>lat</th>\n",
       "      <th>lng</th>\n",
       "      <th>pop</th>\n",
       "    </tr>\n",
       "  </thead>\n",
       "  <tbody>\n",
       "    <tr>\n",
       "      <th>count</th>\n",
       "      <td>2752030.000000</td>\n",
       "      <td>2752030.000000</td>\n",
       "      <td>2327174.000000</td>\n",
       "      <td>2327174.000000</td>\n",
       "      <td>2327174.000000</td>\n",
       "    </tr>\n",
       "    <tr>\n",
       "      <th>mean</th>\n",
       "      <td>73901.549557</td>\n",
       "      <td>94.233702</td>\n",
       "      <td>19.525248</td>\n",
       "      <td>-3.815606</td>\n",
       "      <td>2979077.095382</td>\n",
       "    </tr>\n",
       "    <tr>\n",
       "      <th>std</th>\n",
       "      <td>103102.610865</td>\n",
       "      <td>9.574984</td>\n",
       "      <td>28.050473</td>\n",
       "      <td>80.551531</td>\n",
       "      <td>4085219.942710</td>\n",
       "    </tr>\n",
       "    <tr>\n",
       "      <th>min</th>\n",
       "      <td>1.000000</td>\n",
       "      <td>60.000000</td>\n",
       "      <td>-89.982894</td>\n",
       "      <td>-174.200489</td>\n",
       "      <td>-99.000000</td>\n",
       "    </tr>\n",
       "    <tr>\n",
       "      <th>25%</th>\n",
       "      <td>1982.000000</td>\n",
       "      <td>90.000000</td>\n",
       "      <td>1.293033</td>\n",
       "      <td>-84.543248</td>\n",
       "      <td>227461.000000</td>\n",
       "    </tr>\n",
       "    <tr>\n",
       "      <th>50%</th>\n",
       "      <td>14123.000000</td>\n",
       "      <td>100.000000</td>\n",
       "      <td>28.600023</td>\n",
       "      <td>-1.133249</td>\n",
       "      <td>1104641.500000</td>\n",
       "    </tr>\n",
       "    <tr>\n",
       "      <th>75%</th>\n",
       "      <td>89570.000000</td>\n",
       "      <td>100.000000</td>\n",
       "      <td>39.928892</td>\n",
       "      <td>72.580004</td>\n",
       "      <td>4236614.500000</td>\n",
       "    </tr>\n",
       "    <tr>\n",
       "      <th>max</th>\n",
       "      <td>307959.000000</td>\n",
       "      <td>100.000000</td>\n",
       "      <td>81.716626</td>\n",
       "      <td>179.383304</td>\n",
       "      <td>22006299.500000</td>\n",
       "    </tr>\n",
       "  </tbody>\n",
       "</table>\n",
       "</div>"
      ],
      "text/plain": [
       "           City_Count           Score             lat             lng  \\\n",
       "count  2752030.000000  2752030.000000  2327174.000000  2327174.000000   \n",
       "mean     73901.549557       94.233702       19.525248       -3.815606   \n",
       "std     103102.610865        9.574984       28.050473       80.551531   \n",
       "min          1.000000       60.000000      -89.982894     -174.200489   \n",
       "25%       1982.000000       90.000000        1.293033      -84.543248   \n",
       "50%      14123.000000      100.000000       28.600023       -1.133249   \n",
       "75%      89570.000000      100.000000       39.928892       72.580004   \n",
       "max     307959.000000      100.000000       81.716626      179.383304   \n",
       "\n",
       "                   pop  \n",
       "count   2327174.000000  \n",
       "mean    2979077.095382  \n",
       "std     4085219.942710  \n",
       "min         -99.000000  \n",
       "25%      227461.000000  \n",
       "50%     1104641.500000  \n",
       "75%     4236614.500000  \n",
       "max    22006299.500000  "
      ]
     },
     "execution_count": 9,
     "metadata": {},
     "output_type": "execute_result"
    }
   ],
   "source": [
    "df.describe()"
   ]
  },
  {
   "cell_type": "code",
   "execution_count": 16,
   "metadata": {
    "collapsed": false
   },
   "outputs": [],
   "source": [
    "# inp = pd.read_csv('../Data/Input_Data.txt', sep='|', index_col=False, \n",
    "#                  names=['City', 'Country Code', 'X', 'Y'])\n",
    "# inp.describe()"
   ]
  },
  {
   "cell_type": "code",
   "execution_count": 17,
   "metadata": {
    "collapsed": false
   },
   "outputs": [],
   "source": [
    "# cinp = pd.read_csv('../clean_input.csv')\n",
    "# del cinp['Unnamed: 0']\n",
    "# cinp.describe()"
   ]
  },
  {
   "cell_type": "code",
   "execution_count": 18,
   "metadata": {
    "collapsed": true
   },
   "outputs": [],
   "source": [
    "%matplotlib inline\n",
    "import matplotlib.pyplot as plt\n",
    "import seaborn as sns"
   ]
  },
  {
   "cell_type": "code",
   "execution_count": 26,
   "metadata": {
    "collapsed": false
   },
   "outputs": [
    {
     "data": {
      "text/plain": [
       "<matplotlib.axes._subplots.AxesSubplot at 0x1029fa290>"
      ]
     },
     "execution_count": 26,
     "metadata": {},
     "output_type": "execute_result"
    },
    {
     "data": {
      "image/png": "[encoded data removed]",
      "text/plain": [
       "<matplotlib.figure.Figure at 0x10b525250>"
      ]
     },
     "metadata": {},
     "output_type": "display_data"
    }
   ],
   "source": [
    "## density plot\n",
    "sns.kdeplot(df.Score, shade=True)"
   ]
  },
  {
   "cell_type": "code",
   "execution_count": 20,
   "metadata": {
    "collapsed": false
   },
   "outputs": [
    {
     "data": {
      "text/plain": [
       "<matplotlib.axes._subplots.AxesSubplot at 0x10b1ae090>"
      ]
     },
     "execution_count": 20,
     "metadata": {},
     "output_type": "execute_result"
    },
    {
     "data": {
      "image/png": "[encoded data removed]",
      "text/plain": [
       "<matplotlib.figure.Figure at 0x1055e8210>"
      ]
     },
     "metadata": {},
     "output_type": "display_data"
    }
   ],
   "source": [
    "sns.distplot(df.Score)"
   ]
  },
  {
   "cell_type": "code",
   "execution_count": 21,
   "metadata": {
    "collapsed": false
   },
   "outputs": [
    {
     "data": {
      "text/plain": [
       "(array([    2279.,    10579.,    29793.,   300208.,    55638.,    70299.,\n",
       "          112159.,   248303.,    19634.,  1903138.]),\n",
       " array([  60.,   64.,   68.,   72.,   76.,   80.,   84.,   88.,   92.,\n",
       "          96.,  100.]),\n",
       " <a list of 10 Patch objects>)"
      ]
     },
     "execution_count": 21,
     "metadata": {},
     "output_type": "execute_result"
    },
    {
     "data": {
      "image/png": "[encoded data removed]",
      "text/plain": [
       "<matplotlib.figure.Figure at 0x112c1c6d0>"
      ]
     },
     "metadata": {},
     "output_type": "display_data"
    }
   ],
   "source": [
    "plt.hist(df.Score, alpha=.3)"
   ]
  },
  {
   "cell_type": "markdown",
   "metadata": {},
   "source": [
    "The output file should be provided as a pipe '|' delimited .txt file. \n",
    "\n",
    "For each transaction of the input file it should contain four fields: \n",
    "\n",
    "Input_City, Input_CountryCode, Output_City, Output_CountryName. \n",
    "\n",
    "Other descriptions or Lat Long pairs may be added as additional output fields."
   ]
  },
  {
   "cell_type": "code",
   "execution_count": 58,
   "metadata": {
    "collapsed": false
   },
   "outputs": [
    {
     "data": {
      "text/html": [
       "<div>\n",
       "<table border=\"1\" class=\"dataframe\">\n",
       "  <thead>\n",
       "    <tr style=\"text-align: right;\">\n",
       "      <th></th>\n",
       "      <th>Clean_City</th>\n",
       "      <th>Clean_Code</th>\n",
       "      <th>City_Count</th>\n",
       "      <th>Corrected_City</th>\n",
       "      <th>Score</th>\n",
       "      <th>Clean_Country</th>\n",
       "      <th>lat</th>\n",
       "      <th>lng</th>\n",
       "      <th>pop</th>\n",
       "    </tr>\n",
       "  </thead>\n",
       "  <tbody>\n",
       "    <tr>\n",
       "      <th>0</th>\n",
       "      <td>ANDORRA</td>\n",
       "      <td>AD</td>\n",
       "      <td>3</td>\n",
       "      <td>ANDORRA</td>\n",
       "      <td>100</td>\n",
       "      <td>ANDORRA</td>\n",
       "      <td>42.500001</td>\n",
       "      <td>1.516486</td>\n",
       "      <td>38127</td>\n",
       "    </tr>\n",
       "    <tr>\n",
       "      <th>1</th>\n",
       "      <td>ANDORRA</td>\n",
       "      <td>AD</td>\n",
       "      <td>3</td>\n",
       "      <td>ANDORRA</td>\n",
       "      <td>100</td>\n",
       "      <td>ANDORRA</td>\n",
       "      <td>42.500001</td>\n",
       "      <td>1.516486</td>\n",
       "      <td>38127</td>\n",
       "    </tr>\n",
       "    <tr>\n",
       "      <th>2</th>\n",
       "      <td>ANDORRA</td>\n",
       "      <td>AD</td>\n",
       "      <td>3</td>\n",
       "      <td>ANDORRA</td>\n",
       "      <td>100</td>\n",
       "      <td>ANDORRA</td>\n",
       "      <td>42.500001</td>\n",
       "      <td>1.516486</td>\n",
       "      <td>38127</td>\n",
       "    </tr>\n",
       "    <tr>\n",
       "      <th>3</th>\n",
       "      <td>CENTURION</td>\n",
       "      <td>ZA</td>\n",
       "      <td>70</td>\n",
       "      <td>CENTURION</td>\n",
       "      <td>72</td>\n",
       "      <td>SOUTH AFRICA</td>\n",
       "      <td>NaN</td>\n",
       "      <td>NaN</td>\n",
       "      <td>NaN</td>\n",
       "    </tr>\n",
       "    <tr>\n",
       "      <th>4</th>\n",
       "      <td>CENTURION</td>\n",
       "      <td>ZA</td>\n",
       "      <td>70</td>\n",
       "      <td>CENTURION</td>\n",
       "      <td>72</td>\n",
       "      <td>SOUTH AFRICA</td>\n",
       "      <td>NaN</td>\n",
       "      <td>NaN</td>\n",
       "      <td>NaN</td>\n",
       "    </tr>\n",
       "  </tbody>\n",
       "</table>\n",
       "</div>"
      ],
      "text/plain": [
       "  Clean_City Clean_Code  City_Count Corrected_City  Score Clean_Country  \\\n",
       "0    ANDORRA         AD           3        ANDORRA    100       ANDORRA   \n",
       "1    ANDORRA         AD           3        ANDORRA    100       ANDORRA   \n",
       "2    ANDORRA         AD           3        ANDORRA    100       ANDORRA   \n",
       "3  CENTURION         ZA          70      CENTURION     72  SOUTH AFRICA   \n",
       "4  CENTURION         ZA          70      CENTURION     72  SOUTH AFRICA   \n",
       "\n",
       "         lat       lng    pop  \n",
       "0  42.500001  1.516486  38127  \n",
       "1  42.500001  1.516486  38127  \n",
       "2  42.500001  1.516486  38127  \n",
       "3        NaN       NaN    NaN  \n",
       "4        NaN       NaN    NaN  "
      ]
     },
     "execution_count": 58,
     "metadata": {},
     "output_type": "execute_result"
    }
   ],
   "source": [
    "df.head()"
   ]
  },
  {
   "cell_type": "code",
   "execution_count": 70,
   "metadata": {
    "collapsed": false,
    "scrolled": false
   },
   "outputs": [],
   "source": [
    "# df.isnull().any()"
   ]
  },
  {
   "cell_type": "code",
   "execution_count": 71,
   "metadata": {
    "collapsed": false
   },
   "outputs": [],
   "source": [
    "# df[df['Clean_Code'].isnull()]"
   ]
  },
  {
   "cell_type": "code",
   "execution_count": 77,
   "metadata": {
    "collapsed": false
   },
   "outputs": [],
   "source": [
    "finaldf = df[['Clean_City', 'Clean_Code', 'Corrected_City', 'Clean_Country', 'Score', 'lat', 'lng', 'pop']]"
   ]
  },
  {
   "cell_type": "code",
   "execution_count": 78,
   "metadata": {
    "collapsed": false
   },
   "outputs": [
    {
     "data": {
      "text/html": [
       "<div>\n",
       "<table border=\"1\" class=\"dataframe\">\n",
       "  <thead>\n",
       "    <tr style=\"text-align: right;\">\n",
       "      <th></th>\n",
       "      <th>Clean_City</th>\n",
       "      <th>Clean_Code</th>\n",
       "      <th>Corrected_City</th>\n",
       "      <th>Clean_Country</th>\n",
       "      <th>Score</th>\n",
       "      <th>lat</th>\n",
       "      <th>lng</th>\n",
       "      <th>pop</th>\n",
       "    </tr>\n",
       "  </thead>\n",
       "  <tbody>\n",
       "    <tr>\n",
       "      <th>0</th>\n",
       "      <td>ANDORRA</td>\n",
       "      <td>AD</td>\n",
       "      <td>ANDORRA</td>\n",
       "      <td>ANDORRA</td>\n",
       "      <td>100</td>\n",
       "      <td>42.500001</td>\n",
       "      <td>1.516486</td>\n",
       "      <td>38127</td>\n",
       "    </tr>\n",
       "    <tr>\n",
       "      <th>1</th>\n",
       "      <td>ANDORRA</td>\n",
       "      <td>AD</td>\n",
       "      <td>ANDORRA</td>\n",
       "      <td>ANDORRA</td>\n",
       "      <td>100</td>\n",
       "      <td>42.500001</td>\n",
       "      <td>1.516486</td>\n",
       "      <td>38127</td>\n",
       "    </tr>\n",
       "    <tr>\n",
       "      <th>2</th>\n",
       "      <td>ANDORRA</td>\n",
       "      <td>AD</td>\n",
       "      <td>ANDORRA</td>\n",
       "      <td>ANDORRA</td>\n",
       "      <td>100</td>\n",
       "      <td>42.500001</td>\n",
       "      <td>1.516486</td>\n",
       "      <td>38127</td>\n",
       "    </tr>\n",
       "    <tr>\n",
       "      <th>3</th>\n",
       "      <td>CENTURION</td>\n",
       "      <td>ZA</td>\n",
       "      <td>CENTURION</td>\n",
       "      <td>SOUTH AFRICA</td>\n",
       "      <td>72</td>\n",
       "      <td>NaN</td>\n",
       "      <td>NaN</td>\n",
       "      <td>NaN</td>\n",
       "    </tr>\n",
       "    <tr>\n",
       "      <th>4</th>\n",
       "      <td>CENTURION</td>\n",
       "      <td>ZA</td>\n",
       "      <td>CENTURION</td>\n",
       "      <td>SOUTH AFRICA</td>\n",
       "      <td>72</td>\n",
       "      <td>NaN</td>\n",
       "      <td>NaN</td>\n",
       "      <td>NaN</td>\n",
       "    </tr>\n",
       "  </tbody>\n",
       "</table>\n",
       "</div>"
      ],
      "text/plain": [
       "  Clean_City Clean_Code Corrected_City Clean_Country  Score        lat  \\\n",
       "0    ANDORRA         AD        ANDORRA       ANDORRA    100  42.500001   \n",
       "1    ANDORRA         AD        ANDORRA       ANDORRA    100  42.500001   \n",
       "2    ANDORRA         AD        ANDORRA       ANDORRA    100  42.500001   \n",
       "3  CENTURION         ZA      CENTURION  SOUTH AFRICA     72        NaN   \n",
       "4  CENTURION         ZA      CENTURION  SOUTH AFRICA     72        NaN   \n",
       "\n",
       "        lng    pop  \n",
       "0  1.516486  38127  \n",
       "1  1.516486  38127  \n",
       "2  1.516486  38127  \n",
       "3       NaN    NaN  \n",
       "4       NaN    NaN  "
      ]
     },
     "execution_count": 78,
     "metadata": {},
     "output_type": "execute_result"
    }
   ],
   "source": [
    "finaldf.head()"
   ]
  },
  {
   "cell_type": "code",
   "execution_count": 85,
   "metadata": {
    "collapsed": false
   },
   "outputs": [],
   "source": [
    "finaldf.columns = ['Input_City', 'Input_CountryCode', 'Output_City', 'Output_CountryName', 'Score', 'Lat', 'Long', 'Population']"
   ]
  },
  {
   "cell_type": "code",
   "execution_count": 86,
   "metadata": {
    "collapsed": false
   },
   "outputs": [
    {
     "data": {
      "text/html": [
       "<div>\n",
       "<table border=\"1\" class=\"dataframe\">\n",
       "  <thead>\n",
       "    <tr style=\"text-align: right;\">\n",
       "      <th></th>\n",
       "      <th>Input_City</th>\n",
       "      <th>Input_CountryCode</th>\n",
       "      <th>Output_City</th>\n",
       "      <th>Output_CountryName</th>\n",
       "      <th>Score</th>\n",
       "      <th>Lat</th>\n",
       "      <th>Long</th>\n",
       "      <th>Population</th>\n",
       "    </tr>\n",
       "  </thead>\n",
       "  <tbody>\n",
       "    <tr>\n",
       "      <th>0</th>\n",
       "      <td>ANDORRA</td>\n",
       "      <td>AD</td>\n",
       "      <td>ANDORRA</td>\n",
       "      <td>ANDORRA</td>\n",
       "      <td>100</td>\n",
       "      <td>42.500001</td>\n",
       "      <td>1.516486</td>\n",
       "      <td>38127</td>\n",
       "    </tr>\n",
       "    <tr>\n",
       "      <th>1</th>\n",
       "      <td>ANDORRA</td>\n",
       "      <td>AD</td>\n",
       "      <td>ANDORRA</td>\n",
       "      <td>ANDORRA</td>\n",
       "      <td>100</td>\n",
       "      <td>42.500001</td>\n",
       "      <td>1.516486</td>\n",
       "      <td>38127</td>\n",
       "    </tr>\n",
       "    <tr>\n",
       "      <th>2</th>\n",
       "      <td>ANDORRA</td>\n",
       "      <td>AD</td>\n",
       "      <td>ANDORRA</td>\n",
       "      <td>ANDORRA</td>\n",
       "      <td>100</td>\n",
       "      <td>42.500001</td>\n",
       "      <td>1.516486</td>\n",
       "      <td>38127</td>\n",
       "    </tr>\n",
       "    <tr>\n",
       "      <th>3</th>\n",
       "      <td>CENTURION</td>\n",
       "      <td>ZA</td>\n",
       "      <td>CENTURION</td>\n",
       "      <td>SOUTH AFRICA</td>\n",
       "      <td>72</td>\n",
       "      <td>NaN</td>\n",
       "      <td>NaN</td>\n",
       "      <td>NaN</td>\n",
       "    </tr>\n",
       "    <tr>\n",
       "      <th>4</th>\n",
       "      <td>CENTURION</td>\n",
       "      <td>ZA</td>\n",
       "      <td>CENTURION</td>\n",
       "      <td>SOUTH AFRICA</td>\n",
       "      <td>72</td>\n",
       "      <td>NaN</td>\n",
       "      <td>NaN</td>\n",
       "      <td>NaN</td>\n",
       "    </tr>\n",
       "  </tbody>\n",
       "</table>\n",
       "</div>"
      ],
      "text/plain": [
       "  Input_City Input_CountryCode Output_City Output_CountryName  Score  \\\n",
       "0    ANDORRA                AD     ANDORRA            ANDORRA    100   \n",
       "1    ANDORRA                AD     ANDORRA            ANDORRA    100   \n",
       "2    ANDORRA                AD     ANDORRA            ANDORRA    100   \n",
       "3  CENTURION                ZA   CENTURION       SOUTH AFRICA     72   \n",
       "4  CENTURION                ZA   CENTURION       SOUTH AFRICA     72   \n",
       "\n",
       "         Lat      Long  Population  \n",
       "0  42.500001  1.516486       38127  \n",
       "1  42.500001  1.516486       38127  \n",
       "2  42.500001  1.516486       38127  \n",
       "3        NaN       NaN         NaN  \n",
       "4        NaN       NaN         NaN  "
      ]
     },
     "execution_count": 86,
     "metadata": {},
     "output_type": "execute_result"
    }
   ],
   "source": [
    "finaldf.head()"
   ]
  },
  {
   "cell_type": "code",
   "execution_count": 91,
   "metadata": {
    "collapsed": false
   },
   "outputs": [
    {
     "name": "stdout",
     "output_type": "stream",
     "text": [
      "424856\n",
      "424856\n",
      "424856\n",
      "2752030\n"
     ]
    }
   ],
   "source": [
    "print len(finaldf[finaldf['Lat'].isnull()])\n",
    "print len(finaldf[finaldf['Long'].isnull()])\n",
    "print len(finaldf[finaldf['Population'].isnull()])\n",
    "print len(finaldf)"
   ]
  },
  {
   "cell_type": "code",
   "execution_count": 93,
   "metadata": {
    "collapsed": false
   },
   "outputs": [
    {
     "data": {
      "text/plain": [
       "0.1543791310414494"
      ]
     },
     "execution_count": 93,
     "metadata": {},
     "output_type": "execute_result"
    }
   ],
   "source": [
    "float(len(finaldf[finaldf['Lat'].isnull()])) / float(len(finaldf))"
   ]
  },
  {
   "cell_type": "code",
   "execution_count": 95,
   "metadata": {
    "collapsed": false
   },
   "outputs": [
    {
     "data": {
      "text/html": [
       "<div>\n",
       "<table border=\"1\" class=\"dataframe\">\n",
       "  <thead>\n",
       "    <tr style=\"text-align: right;\">\n",
       "      <th></th>\n",
       "      <th>Score</th>\n",
       "      <th>Lat</th>\n",
       "      <th>Long</th>\n",
       "      <th>Population</th>\n",
       "    </tr>\n",
       "  </thead>\n",
       "  <tbody>\n",
       "    <tr>\n",
       "      <th>count</th>\n",
       "      <td>2752030.000000</td>\n",
       "      <td>2327174.000000</td>\n",
       "      <td>2327174.000000</td>\n",
       "      <td>2327174.000000</td>\n",
       "    </tr>\n",
       "    <tr>\n",
       "      <th>mean</th>\n",
       "      <td>94.233702</td>\n",
       "      <td>19.525248</td>\n",
       "      <td>-3.815606</td>\n",
       "      <td>2979077.095382</td>\n",
       "    </tr>\n",
       "    <tr>\n",
       "      <th>std</th>\n",
       "      <td>9.574984</td>\n",
       "      <td>28.050473</td>\n",
       "      <td>80.551531</td>\n",
       "      <td>4085219.942710</td>\n",
       "    </tr>\n",
       "    <tr>\n",
       "      <th>min</th>\n",
       "      <td>60.000000</td>\n",
       "      <td>-89.982894</td>\n",
       "      <td>-174.200489</td>\n",
       "      <td>-99.000000</td>\n",
       "    </tr>\n",
       "    <tr>\n",
       "      <th>25%</th>\n",
       "      <td>90.000000</td>\n",
       "      <td>1.293033</td>\n",
       "      <td>-84.543248</td>\n",
       "      <td>227461.000000</td>\n",
       "    </tr>\n",
       "    <tr>\n",
       "      <th>50%</th>\n",
       "      <td>100.000000</td>\n",
       "      <td>28.600023</td>\n",
       "      <td>-1.133249</td>\n",
       "      <td>1104641.500000</td>\n",
       "    </tr>\n",
       "    <tr>\n",
       "      <th>75%</th>\n",
       "      <td>100.000000</td>\n",
       "      <td>39.928892</td>\n",
       "      <td>72.580004</td>\n",
       "      <td>4236614.500000</td>\n",
       "    </tr>\n",
       "    <tr>\n",
       "      <th>max</th>\n",
       "      <td>100.000000</td>\n",
       "      <td>81.716626</td>\n",
       "      <td>179.383304</td>\n",
       "      <td>22006299.500000</td>\n",
       "    </tr>\n",
       "  </tbody>\n",
       "</table>\n",
       "</div>"
      ],
      "text/plain": [
       "                Score             Lat            Long       Population\n",
       "count  2752030.000000  2327174.000000  2327174.000000   2327174.000000\n",
       "mean        94.233702       19.525248       -3.815606   2979077.095382\n",
       "std          9.574984       28.050473       80.551531   4085219.942710\n",
       "min         60.000000      -89.982894     -174.200489       -99.000000\n",
       "25%         90.000000        1.293033      -84.543248    227461.000000\n",
       "50%        100.000000       28.600023       -1.133249   1104641.500000\n",
       "75%        100.000000       39.928892       72.580004   4236614.500000\n",
       "max        100.000000       81.716626      179.383304  22006299.500000"
      ]
     },
     "execution_count": 95,
     "metadata": {},
     "output_type": "execute_result"
    }
   ],
   "source": [
    "finaldf.describe()"
   ]
  },
  {
   "cell_type": "code",
   "execution_count": 98,
   "metadata": {
    "collapsed": false
   },
   "outputs": [],
   "source": [
    "finaldf.to_csv('Output.txt', sep='\\t')"
   ]
  },
  {
   "cell_type": "code",
   "execution_count": null,
   "metadata": {
    "collapsed": true
   },
   "outputs": [],
   "source": []
  }
 ],
 "metadata": {
  "kernelspec": {
   "display_name": "Python 2",
   "language": "python",
   "name": "python2"
  },
  "language_info": {
   "codemirror_mode": {
    "name": "ipython",
    "version": 2
   },
   "file_extension": ".py",
   "mimetype": "text/x-python",
   "name": "python",
   "nbconvert_exporter": "python",
   "pygments_lexer": "ipython2",
   "version": "2.7.10"
  }
 },
 "nbformat": 4,
 "nbformat_minor": 0
}
